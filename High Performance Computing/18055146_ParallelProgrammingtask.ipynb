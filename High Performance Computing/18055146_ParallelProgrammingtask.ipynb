{
 "cells": [
  {
   "cell_type": "markdown",
   "metadata": {},
   "source": [
    "# 18055146 Parallel Programming Task - Ant Colony Optimisation"
   ]
  },
  {
   "cell_type": "code",
   "execution_count": 39,
   "metadata": {
    "collapsed": false,
    "scrolled": false
   },
   "outputs": [
    {
     "name": "stdout",
     "output_type": "stream",
     "text": [
      "constructed 8 tours\n",
      "valid tours: True\n",
      "Serial: time for 8 ants is 2.543000827998185\n",
      "\n",
      "constructed 8 tours\n",
      "valid tours: True\n",
      "Numpy: time for 8 ants is 0.07916905700039933\n",
      "\n",
      "constructed 8 tours\n",
      "valid tours: True\n",
      "Multiprocessing: time for 8 ants is 0.08573066000099061\n"
     ]
    }
   ],
   "source": [
    "#\n",
    "# 6G7Z1003 portfolio assignment\n",
    "# python implementation of ACO tour construction using I-Roulette \n",
    "#\n",
    "import numpy as np\n",
    "import random\n",
    "import time\n",
    "import multiprocessing as mp\n",
    "\n",
    "def check_tour( tour, n ):\n",
    "    # sanity check a tour to make sure it has each city represented once\n",
    "    m = len(tour)\n",
    "    if m != n:\n",
    "        return False\n",
    "    counts = [0 for i in range(n)]\n",
    "    for city in tour:\n",
    "        if city < 0 or city > n-1 or counts[city] != 0:\n",
    "            return False\n",
    "        counts[city] += 1\n",
    "    return True\n",
    "\n",
    "def check_tours( tours, n ):\n",
    "    # check all tours in a list\n",
    "    all_valid = True\n",
    "    for t in tours:\n",
    "        if not check_tour(t, n):\n",
    "            all_valid = False\n",
    "            break\n",
    "    return all_valid\n",
    "\n",
    "def iroulette( weights ):\n",
    "    # Independent roulette - multiply weights by random numbers and return index of highest product\n",
    "    num_weights = len(weights)\n",
    "    imax = -1;\n",
    "    vmax = 0\n",
    "    for i in range(num_weights):\n",
    "        val = weights[i]* random.random()\n",
    "        if val > vmax:\n",
    "            vmax = val\n",
    "            imax = i\n",
    "    return imax\n",
    "    \n",
    "def construct_tour( weights ):\n",
    "    # plain python version - construct a tour using the iroulette function\n",
    "    n = weights[0].size\n",
    "    \n",
    "    # random start city\n",
    "    cur_city = random.randrange(0,n)\n",
    "    \n",
    "    tour = [cur_city]\n",
    "    # free[i] is true if city i has not been visited \n",
    "    free = np.zeros(n) == 0.0\n",
    "    free[cur_city] = False\n",
    "    \n",
    "\n",
    "    while len(tour) < n:\n",
    "        w = []\n",
    "        indices = []\n",
    "        for i in range(n):\n",
    "            if free[i]:\n",
    "                w.append( weights[cur_city][i] )\n",
    "                indices.append(i)\n",
    "        sel = iroulette(w) #selected weight\n",
    "        cur_city = indices[sel] #selected city\n",
    "        tour.append(cur_city)\n",
    "        free[cur_city] = False\n",
    "    return tour\n",
    "\n",
    "def construct_tours( weights, num_ants ):\n",
    "    # construct num_ants tours, and return in a list\n",
    "    tours = []\n",
    "    for i in range(num_ants):\n",
    "        tours.append( construct_tour(weights))\n",
    "    return tours\n",
    "\n",
    "def np_construct_tour( weights ):\n",
    "    # todo: make this construct a tour from the weights, using a vectorized version of I-Roulette\n",
    "    n = weights[0].size\n",
    "    cur_city = random.randrange(0,n)\n",
    "    tour=[cur_city]\n",
    "    free=np.zeros(n) == 0.0\n",
    "    free[cur_city] = False\n",
    "    \n",
    "    while len(tour)<n:\n",
    "        #gets list of free cities\n",
    "        indices=np.nonzero(free)[0]\n",
    "        #multiply weights of the free citites by a random number\n",
    "        val=weights[cur_city][free]*random.random()\n",
    "        #return the index of the city with the highest product from val\n",
    "        h= np.argmax(val)\n",
    "        #use boolean indexing to get the current city from the list of non visited citities\n",
    "        cur_city=indices[h]\n",
    "        \n",
    "        tour.append(cur_city)\n",
    "        free[cur_city]=False\n",
    "    return tour \n",
    "\n",
    "def construct_tours_np( weights, num_ants ):\n",
    "    # construct num_ants tours using the numpy vesion of the tour construction function, and return in a list\n",
    "    tours = []\n",
    "    for i in range(num_ants):\n",
    "        tours.append( np_construct_tour(weights) )\n",
    "    return tours\n",
    "\n",
    "def construct_tour_mp( weights, queue ):\n",
    "    result = np_construct_tour(weights)\n",
    "    queue.put(result) \n",
    "def construct_tours_mp( weights, num_ants ):\n",
    "    # todo: used multiprocessing and queue function used to pass through construct_tour_mp via procs for each num_procs\n",
    "    num_procs = num_ants\n",
    "    out_queue = mp.Queue()\n",
    "    # create some processes\n",
    "    procs = [mp.Process(target=construct_tour_mp,args=(weights, out_queue)) for p in range(num_procs)]\n",
    "    for p in procs:\n",
    "        p.start()\n",
    "    \n",
    "    out_vals = [out_queue.get() for p in procs]\n",
    "    return out_vals# \n",
    "   \n",
    "\n",
    "def main():\n",
    "    n = 1000 # number of cities in the problem\n",
    "    weights = np.random.random((n,n)) # square matrix of random weights for edges\n",
    "    num_ants = 8\n",
    "\n",
    "    # run the plain python version\n",
    "    t = time.perf_counter()\n",
    "    tours = construct_tours( weights, num_ants)\n",
    "    t = time.perf_counter() - t\n",
    "    print(\"constructed\",len(tours),\"tours\")\n",
    "    print(\"valid tours:\",check_tours(tours, n))\n",
    "    print(\"Serial: time for\",num_ants,\"ants is\",t)\n",
    "    print()\n",
    "\n",
    "    # run the numpy version - you need to implement this\n",
    "    t = time.perf_counter()\n",
    "    tours = construct_tours_np( weights, num_ants )\n",
    "    t = time.perf_counter() - t\n",
    "    print(\"constructed\",len(tours),\"tours\")\n",
    "    print(\"valid tours:\",check_tours(tours, n))\n",
    "    print(\"Numpy: time for\",num_ants,\"ants is\",t)\n",
    "    print()\n",
    "\n",
    "    # run the multiprocessing version - you need to implement this\n",
    "    t = time.perf_counter()\n",
    "    tours = construct_tours_mp( weights, num_ants )\n",
    "    t = time.perf_counter() - t\n",
    "    print(\"constructed\",len(tours),\"tours\")\n",
    "    print(\"valid tours:\",check_tours(tours, n))\n",
    "    print(\"Multiprocessing: time for\",num_ants,\"ants is\",t)\n",
    "\n",
    "if __name__ == '__main__':\n",
    "    main()\n",
    "\n"
   ]
  },
  {
   "cell_type": "markdown",
   "metadata": {},
   "source": [
    "### The task presented was one using the method of ant colonies and their way of going about a process which aims for maximum efficiency and conservation of energy. \n",
    "### The Ant Colony Optimisation (ACO) task was using given the premise of using a Hamiltonian circuit whereby each point (vertices) can only be visited once using Euclidian distance.\n",
    "### The stochastic algorithm makes the tour randomly according to the weights for each ‘distance’ whereby the process of visiting each instance is calculated by heuristics such as the distance where the shorter distances are selected and pheromones which here we have the weights that are assigned and the biggest is chosen. \n",
    "### The means of obtaining a quicker tour would be by the use of numpy which allows a more powerful array manipulation and then multiprocessing to optimise the use of the multiprocessing available by the increased number of cores.\n",
    "\n",
    "### The weights for the tour are assumed in a 2-D array which then is selected and for each event a loop is performed with the available vertices. \n",
    "### Boolean arrays are used to select and filter through the cities that have not been visited, where the ‘True’ instances are available for selection. Using the iroulette function of multiplying the weights by random numbers between 0 to 1 indicate the probabilities and therefore once the multiplication has occurred, the highest weight is consequently selected to be visited using the argmax feature on numpy. Following this the tour has an added value for the city to visit and the number of cities left reduces by 1 for each iteration. \n",
    "\n",
    "### The parallelisation is performed using multiprocessing across the threads where each ant represents each thread. The Queue function uses pipes to allow multiple processes. The improvement of using multiprocessing is that where serial code performs the function in steps, multiprocessing allows the breakdown of the task to different cores so that the capacity for each core is being utilised to achieve a more efficient time. \n",
    "\n",
    "### The following results indicate how as the number of cities increases the speedup and multiprocessing acheived by the multicore systems eventually improves, this is reflected by the serial time and its growing time taken to execute the function and the speedup calculated.Therefore in such a task parallisation leads to optimisation of code allowing a greater turnaround.#"
   ]
  },
  {
   "cell_type": "code",
   "execution_count": 40,
   "metadata": {
    "collapsed": true
   },
   "outputs": [],
   "source": [
    "from matplotlib import pyplot as plt"
   ]
  },
  {
   "cell_type": "markdown",
   "metadata": {},
   "source": [
    "# Time for 4 ants to check difference in times with less available processors"
   ]
  },
  {
   "cell_type": "code",
   "execution_count": 41,
   "metadata": {
    "collapsed": false
   },
   "outputs": [
    {
     "name": "stdout",
     "output_type": "stream",
     "text": [
      "constructed 4 tours\n",
      "valid tours: True\n",
      "Serial: time for 4 ants is 1.2735069070004101\n",
      "\n",
      "constructed 4 tours\n",
      "valid tours: True\n",
      "Serial: time for 4 ants is 0.0401299340010155\n",
      "\n",
      "constructed 4 tours\n",
      "valid tours: True\n",
      "Serial: time for 4 ants is 0.042329628002335085\n",
      "\n"
     ]
    },
    {
     "data": {
      "image/png": "[encoded data removed]",
      "text/plain": [
       "<matplotlib.figure.Figure at 0x7efc2b251a90>"
      ]
     },
     "metadata": {},
     "output_type": "display_data"
    }
   ],
   "source": [
    "\n",
    "def main():\n",
    "    n = 1000 # number of cities in the problem\n",
    "    weights = np.random.random((n,n)) # square matrix of random weights for edges\n",
    "    num_ants = 4\n",
    "\n",
    "    # run the plain python version\n",
    "    st04 = time.perf_counter()\n",
    "    tours = construct_tours( weights, num_ants)\n",
    "    st04 = time.perf_counter() - st04\n",
    "    print(\"constructed\",len(tours),\"tours\")\n",
    "    print(\"valid tours:\",check_tours(tours, n))\n",
    "    print(\"Serial: time for\",num_ants,\"ants is\",st04)\n",
    "    print()\n",
    "    \n",
    "\n",
    "    # run the numpy version - you need to implement this\n",
    "    nt04 = time.perf_counter()\n",
    "    tours = construct_tours_np( weights, num_ants )\n",
    "    nt04 = time.perf_counter() - nt04\n",
    "    print(\"constructed\",len(tours),\"tours\")\n",
    "    print(\"valid tours:\",check_tours(tours, n))\n",
    "    print(\"Serial: time for\",num_ants,\"ants is\",nt04)\n",
    "    print()\n",
    "   \n",
    "\n",
    "    # run the multiprocessing version - you need to implement this\n",
    "    mt04 = time.perf_counter()\n",
    "    tours = construct_tours_mp( weights, num_ants )\n",
    "    mt04 = time.perf_counter() - mt04\n",
    "    print(\"constructed\",len(tours),\"tours\")\n",
    "    print(\"valid tours:\",check_tours(tours, n))\n",
    "    print(\"Serial: time for\",num_ants,\"ants is\",mt04)\n",
    "    print()\n",
    "    \n",
    "    times = [st04, nt04, mt04]\n",
    "    names = ('serial', 'numpy', 'multi-processing')\n",
    "    y_pos = np.arange(len(names))\n",
    " \n",
    "    # Create horizontal bars\n",
    "    plt.barh(y_pos, times,align='center', alpha=0.8,color=['r','b','g'])\n",
    "\n",
    "    plt.rcParams[\"figure.figsize\"] = (20,3)\n",
    "    plt.yticks(y_pos, names) \n",
    "    plt.xlabel('Time in Seconds')\n",
    "    plt.ylabel('Types of Processing')\n",
    "    plt.title('Comparison of times for 1000 cities')\n",
    "    # Show graphic\n",
    "    plt.show()\n",
    "\n",
    "if __name__ == '__main__':\n",
    "    main()"
   ]
  },
  {
   "cell_type": "markdown",
   "metadata": {},
   "source": [
    "## Experiment for 1000 cities"
   ]
  },
  {
   "cell_type": "code",
   "execution_count": 42,
   "metadata": {
    "collapsed": false,
    "scrolled": false
   },
   "outputs": [
    {
     "name": "stdout",
     "output_type": "stream",
     "text": [
      "constructed 8 tours\n",
      "valid tours: True\n",
      "Serial: time for 8 ants is 2.5349979269994947\n",
      "\n",
      "constructed 8 tours\n",
      "valid tours: True\n",
      "Serial: time for 8 ants is 0.079723616996489\n",
      "\n",
      "constructed 8 tours\n",
      "valid tours: True\n",
      "Serial: time for 8 ants is 0.06656830599968089\n",
      "\n"
     ]
    },
    {
     "data": {
      "image/png": "[encoded data removed]",
      "text/plain": [
       "<matplotlib.figure.Figure at 0x7efc208c4a90>"
      ]
     },
     "metadata": {},
     "output_type": "display_data"
    },
    {
     "name": "stdout",
     "output_type": "stream",
     "text": [
      "The Speedup from Serial to Multiprocessing is: 38.08115422092379\n",
      "The efficiency is 4.760144277615474\n"
     ]
    }
   ],
   "source": [
    "def main():\n",
    "    n = 1000 # number of cities in the problem\n",
    "    weights = np.random.random((n,n)) # square matrix of random weights for edges\n",
    "    num_ants = 8\n",
    "\n",
    "    # run the plain python version\n",
    "    st1 = time.perf_counter()\n",
    "    tours = construct_tours( weights, num_ants)\n",
    "    st1 = time.perf_counter() - st1\n",
    "    print(\"constructed\",len(tours),\"tours\")\n",
    "    print(\"valid tours:\",check_tours(tours, n))\n",
    "    print(\"Serial: time for\",num_ants,\"ants is\",st1)\n",
    "    print()\n",
    "    \n",
    "\n",
    "    # run the numpy version - you need to implement this\n",
    "    nt1 = time.perf_counter()\n",
    "    tours = construct_tours_np( weights, num_ants )\n",
    "    nt1 = time.perf_counter() - nt1\n",
    "    print(\"constructed\",len(tours),\"tours\")\n",
    "    print(\"valid tours:\",check_tours(tours, n))\n",
    "    print(\"Serial: time for\",num_ants,\"ants is\",nt1)\n",
    "    print()\n",
    "   \n",
    "\n",
    "    # run the multiprocessing version - you need to implement this\n",
    "    mt1 = time.perf_counter()\n",
    "    tours = construct_tours_mp( weights, num_ants )\n",
    "    mt1 = time.perf_counter() - mt1\n",
    "    print(\"constructed\",len(tours),\"tours\")\n",
    "    print(\"valid tours:\",check_tours(tours, n))\n",
    "    print(\"Serial: time for\",num_ants,\"ants is\",mt1)\n",
    "    print()\n",
    "    \n",
    "    times = [st1, nt1, mt1]\n",
    "    names = ('serial', 'numpy', 'multi-processing')\n",
    "    y_pos = np.arange(len(names))\n",
    " \n",
    "    # Create horizontal bars\n",
    "    plt.barh(y_pos, times,align='center', alpha=0.8,color=['r','b','g'])\n",
    "\n",
    "    plt.rcParams[\"figure.figsize\"] = (20,3)\n",
    "    plt.yticks(y_pos, names) \n",
    "    plt.xlabel('Time in Seconds')\n",
    "    plt.ylabel('Types of Processing')\n",
    "    plt.title('Comparison of times for 1000 cities')\n",
    "    # Show graphic\n",
    "    plt.show()\n",
    "    \n",
    "    speedup= st1/mt1\n",
    "    efficiency= speedup/8\n",
    "    print('The Speedup from Serial to Multiprocessing is:', speedup)\n",
    "    print('The efficiency is', efficiency)\n",
    "\n",
    "if __name__ == '__main__':\n",
    "    main()\n"
   ]
  },
  {
   "cell_type": "code",
   "execution_count": null,
   "metadata": {
    "collapsed": false
   },
   "outputs": [],
   "source": []
  },
  {
   "cell_type": "markdown",
   "metadata": {},
   "source": [
    "## The run for 1000 cities shows that although the times are improved for the numpy and multiprocessing implementation, the multiprocessing time is slightly slower. This is because the time taken to distribute the processes and execute the function is longer that the time numpy can take. "
   ]
  },
  {
   "cell_type": "markdown",
   "metadata": {
    "collapsed": true
   },
   "source": [
    "# Time for 2000 cities "
   ]
  },
  {
   "cell_type": "code",
   "execution_count": 43,
   "metadata": {
    "collapsed": false,
    "scrolled": true
   },
   "outputs": [
    {
     "name": "stdout",
     "output_type": "stream",
     "text": [
      "constructed 8 tours\n",
      "valid tours: True\n",
      "Serial: time for 8 ants is 10.178178917001787\n",
      "\n",
      "constructed 8 tours\n",
      "valid tours: True\n",
      "Serial: time for 8 ants is 0.2623399600015546\n",
      "\n",
      "constructed 8 tours\n",
      "valid tours: True\n",
      "Serial: time for 8 ants is 0.22418398999798228\n",
      "\n"
     ]
    },
    {
     "data": {
      "image/png": "[encoded data removed]",
      "text/plain": [
       "<matplotlib.figure.Figure at 0x7efc2b2ea390>"
      ]
     },
     "metadata": {},
     "output_type": "display_data"
    },
    {
     "name": "stdout",
     "output_type": "stream",
     "text": [
      "The Speedup from Serial to Multiprocessing is: 45.401007079468044\n",
      "The efficiency is 5.675125884933506\n"
     ]
    }
   ],
   "source": [
    "\n",
    "def main():\n",
    "    n = 2000 # number of cities in the problem\n",
    "    weights = np.random.random((n,n)) # square matrix of random weights for edges\n",
    "    num_ants = 8\n",
    "\n",
    "    # run the plain python version\n",
    "    st2 = time.perf_counter()\n",
    "    tours = construct_tours( weights, num_ants)\n",
    "    st2 = time.perf_counter() - st2\n",
    "    print(\"constructed\",len(tours),\"tours\")\n",
    "    print(\"valid tours:\",check_tours(tours, n))\n",
    "    print(\"Serial: time for\",num_ants,\"ants is\",st2)\n",
    "    print()\n",
    "    \n",
    "\n",
    "    # run the numpy version - you need to implement this\n",
    "    nt2 = time.perf_counter()\n",
    "    tours = construct_tours_np( weights, num_ants )\n",
    "    nt2 = time.perf_counter() - nt2\n",
    "    print(\"constructed\",len(tours),\"tours\")\n",
    "    print(\"valid tours:\",check_tours(tours, n))\n",
    "    print(\"Serial: time for\",num_ants,\"ants is\",nt2)\n",
    "    print()\n",
    "   \n",
    "\n",
    "    # run the multiprocessing version - you need to implement this\n",
    "    mt2 = time.perf_counter()\n",
    "    tours = construct_tours_mp( weights, num_ants )\n",
    "    mt2 = time.perf_counter() - mt2\n",
    "    print(\"constructed\",len(tours),\"tours\")\n",
    "    print(\"valid tours:\",check_tours(tours, n))\n",
    "    print(\"Serial: time for\",num_ants,\"ants is\",mt2)\n",
    "    print()\n",
    "    \n",
    "    times = [st2, nt2, mt2]\n",
    "    names = ('serial', 'numpy', 'multi-processing')\n",
    "    y_pos = np.arange(len(names))\n",
    " \n",
    "    # Create horizontal bars\n",
    "    plt.barh(y_pos, times,align='center', alpha=0.8,color=['r','b','g'])\n",
    "\n",
    "    plt.rcParams[\"figure.figsize\"] = (20,3)\n",
    "    plt.yticks(y_pos, names) \n",
    "    plt.xlabel('Time in Seconds')\n",
    "    plt.ylabel('Types of Processing')\n",
    "    plt.title('Comparison of times for 2000 cities')\n",
    "    # Show graphic\n",
    "    plt.show()\n",
    "    \n",
    "    speedup= st2/mt2\n",
    "    efficiency= speedup/8\n",
    "    print('The Speedup from Serial to Multiprocessing is:', speedup)\n",
    "    print('The efficiency is', efficiency)\n",
    "\n",
    "if __name__ == '__main__':\n",
    "    main()"
   ]
  },
  {
   "cell_type": "markdown",
   "metadata": {},
   "source": [
    "## Now as the task requires a bigger quantity of computation, the multiprocessing is shown to be the best time (shortest) whereas the effort required for the serial version shows how the time taken is significantly more. The difference seen by the Serial and Numpy is improvement by approximately 36 fold. Furthermore the multiprocessing is a further twice as quick as the numpy version."
   ]
  },
  {
   "cell_type": "markdown",
   "metadata": {
    "collapsed": true
   },
   "source": [
    "# Time for 4000 cities \n"
   ]
  },
  {
   "cell_type": "code",
   "execution_count": 44,
   "metadata": {
    "collapsed": false,
    "scrolled": true
   },
   "outputs": [
    {
     "name": "stdout",
     "output_type": "stream",
     "text": [
      "constructed 8 tours\n",
      "valid tours: True\n",
      "Serial: time for 8 ants is 41.15402221399927\n",
      "\n",
      "constructed 8 tours\n",
      "valid tours: True\n",
      "Serial: time for 8 ants is 0.9881977500008361\n",
      "\n",
      "constructed 8 tours\n",
      "valid tours: True\n",
      "Serial: time for 8 ants is 0.2871784929993737\n",
      "\n"
     ]
    },
    {
     "data": {
      "image/png": "[encoded data removed]",
      "text/plain": [
       "<matplotlib.figure.Figure at 0x7efc2b152f60>"
      ]
     },
     "metadata": {},
     "output_type": "display_data"
    },
    {
     "name": "stdout",
     "output_type": "stream",
     "text": [
      "The Speedup from Serial to Multiprocessing is: 143.3046805983797\n",
      "The efficiency is 17.91308507479746\n"
     ]
    }
   ],
   "source": [
    "\n",
    "def main():\n",
    "    n = 4000 # number of cities in the problem\n",
    "    weights = np.random.random((n,n)) # square matrix of random weights for edges\n",
    "    num_ants = 8\n",
    "\n",
    "    # run the plain python version\n",
    "    st4 = time.perf_counter()\n",
    "    tours = construct_tours( weights, num_ants)\n",
    "    st4 = time.perf_counter() - st4\n",
    "    print(\"constructed\",len(tours),\"tours\")\n",
    "    print(\"valid tours:\",check_tours(tours, n))\n",
    "    print(\"Serial: time for\",num_ants,\"ants is\",st4)\n",
    "    print()\n",
    "    \n",
    "\n",
    "    # run the numpy version - you need to implement this\n",
    "    nt4 = time.perf_counter()\n",
    "    tours = construct_tours_np( weights, num_ants )\n",
    "    nt4 = time.perf_counter() - nt4\n",
    "    print(\"constructed\",len(tours),\"tours\")\n",
    "    print(\"valid tours:\",check_tours(tours, n))\n",
    "    print(\"Serial: time for\",num_ants,\"ants is\",nt4)\n",
    "    print()\n",
    "   \n",
    "\n",
    "    # run the multiprocessing version - you need to implement this\n",
    "    mt4 = time.perf_counter()\n",
    "    tours = construct_tours_mp( weights, num_ants )\n",
    "    mt4 = time.perf_counter() - mt4\n",
    "    print(\"constructed\",len(tours),\"tours\")\n",
    "    print(\"valid tours:\",check_tours(tours, n))\n",
    "    print(\"Serial: time for\",num_ants,\"ants is\",mt4)\n",
    "    print()\n",
    "    \n",
    "    times = [st4, nt4, mt4]\n",
    "    names = ('serial', 'numpy', 'multi-processing')\n",
    "    y_pos = np.arange(len(names))\n",
    " \n",
    "    # Create horizontal bars\n",
    "    plt.barh(y_pos, times,align='center', alpha=0.8,color=['r','b','g'])\n",
    "\n",
    "    plt.rcParams[\"figure.figsize\"] = (20,3)\n",
    "    plt.yticks(y_pos, names) \n",
    "    plt.xlabel('Time in Seconds')\n",
    "    plt.ylabel('Types of Processing')\n",
    "    plt.title('Comparison of times for 4000 cities')\n",
    "    # Show graphic\n",
    "    plt.show()\n",
    "\n",
    "    speedup= st4/mt4\n",
    "    efficiency= speedup/8\n",
    "    print('The Speedup from Serial to Multiprocessing is:', speedup)\n",
    "    print('The efficiency is', efficiency)\n",
    "    \n",
    "if __name__ == '__main__':\n",
    "    main()"
   ]
  },
  {
   "cell_type": "markdown",
   "metadata": {},
   "source": [
    "## This implementation  using 4000 cities, it shows that the Serial time is takes longer as expected and the difference in the number of fold increase has improved with the difference between Serial to Numpy reaching 40 fold and the multiprocessing making an improvement of just under 3 fold further.\n"
   ]
  },
  {
   "cell_type": "markdown",
   "metadata": {
    "collapsed": true
   },
   "source": [
    "# Time for 8000 cities "
   ]
  },
  {
   "cell_type": "code",
   "execution_count": 45,
   "metadata": {
    "collapsed": false,
    "scrolled": true
   },
   "outputs": [
    {
     "name": "stdout",
     "output_type": "stream",
     "text": [
      "constructed 8 tours\n",
      "valid tours: True\n",
      "Serial: time for 8 ants is 163.8235743360019\n",
      "\n",
      "constructed 8 tours\n",
      "valid tours: True\n",
      "Serial: time for 8 ants is 3.7606726910016732\n",
      "\n",
      "constructed 8 tours\n",
      "valid tours: True\n",
      "Serial: time for 8 ants is 0.8870245170000999\n",
      "\n"
     ]
    },
    {
     "data": {
      "image/png": "[encoded data removed]",
      "text/plain": [
       "<matplotlib.figure.Figure at 0x7efc2b29ea58>"
      ]
     },
     "metadata": {},
     "output_type": "display_data"
    },
    {
     "name": "stdout",
     "output_type": "stream",
     "text": [
      "The Speedup from Serial to Multiprocessing is: 184.6888910016266\n",
      "The efficiency is 23.086111375203323\n"
     ]
    }
   ],
   "source": [
    "\n",
    "def main():\n",
    "    n = 8000 # number of cities in the problem\n",
    "    weights = np.random.random((n,n)) # square matrix of random weights for edges\n",
    "    num_ants = 8\n",
    "\n",
    "    # run the plain python version\n",
    "    st8 = time.perf_counter()\n",
    "    tours = construct_tours( weights, num_ants)\n",
    "    st8 = time.perf_counter() - st8\n",
    "    print(\"constructed\",len(tours),\"tours\")\n",
    "    print(\"valid tours:\",check_tours(tours, n))\n",
    "    print(\"Serial: time for\",num_ants,\"ants is\",st8)\n",
    "    print()\n",
    "    \n",
    "\n",
    "    # run the numpy version - you need to implement this\n",
    "    nt8 = time.perf_counter()\n",
    "    tours = construct_tours_np( weights, num_ants )\n",
    "    nt8 = time.perf_counter() - nt8\n",
    "    print(\"constructed\",len(tours),\"tours\")\n",
    "    print(\"valid tours:\",check_tours(tours, n))\n",
    "    print(\"Serial: time for\",num_ants,\"ants is\",nt8)\n",
    "    print()\n",
    "   \n",
    "\n",
    "    # run the multiprocessing version - you need to implement this\n",
    "    mt8 = time.perf_counter()\n",
    "    tours = construct_tours_mp( weights, num_ants )\n",
    "    mt8 = time.perf_counter() - mt8\n",
    "    print(\"constructed\",len(tours),\"tours\")\n",
    "    print(\"valid tours:\",check_tours(tours, n))\n",
    "    print(\"Serial: time for\",num_ants,\"ants is\",mt8)\n",
    "    print()\n",
    "    \n",
    "    times = [st8, nt8, mt8]\n",
    "    names = ('serial', 'numpy', 'multi-processing')\n",
    "    y_pos = np.arange(len(names))\n",
    " \n",
    "    # Create horizontal bars\n",
    "    plt.barh(y_pos, times,align='center', alpha=0.8,color=['r','b','g'])\n",
    "\n",
    "    plt.rcParams[\"figure.figsize\"] = (20,3)\n",
    "    plt.yticks(y_pos, names) \n",
    "    plt.xlabel('Time in Seconds')\n",
    "    plt.ylabel('Types of Processing')\n",
    "    plt.title('Comparison of times for 8000 cities')\n",
    "    # Show graphic\n",
    "    plt.show()\n",
    "    \n",
    "    speedup= st8/mt8\n",
    "    efficiency= speedup/8\n",
    "    print('The Speedup from Serial to Multiprocessing is:', speedup)\n",
    "    print('The efficiency is', efficiency)\n",
    "\n",
    "if __name__ == '__main__':\n",
    "    main()"
   ]
  },
  {
   "cell_type": "markdown",
   "metadata": {},
   "source": [
    "## As shown the number of citites increases and so does the rate of computation for each implementation. This shows in this instance where the number of processors is 8, the ability to partition the work and split the processes set by multiprocessing still gives it a time to produce the time to under 1 second whereas numpy is still optimised but not as well even with the increase of over 40 fold. \n"
   ]
  },
  {
   "cell_type": "markdown",
   "metadata": {},
   "source": [
    "## The speedup and number of fold increase shows that there is a sub-linear speed up because the rate of speed-up is not contstantly half the time, with the efficiency increasing similarly."
   ]
  },
  {
   "cell_type": "code",
   "execution_count": 46,
   "metadata": {
    "collapsed": false,
    "scrolled": false
   },
   "outputs": [
    {
     "data": {
      "image/png": "[encoded data removed]",
      "text/plain": [
       "<matplotlib.figure.Figure at 0x7efc507900b8>"
      ]
     },
     "metadata": {},
     "output_type": "display_data"
    }
   ],
   "source": [
    "def main():\n",
    "    n = 1000 # number of cities in the problem\n",
    "    weights = np.random.random((n,n)) # square matrix of random weights for edges\n",
    "    num_ants = 8\n",
    "\n",
    "    st = time.perf_counter()\n",
    "    tours = construct_tours( weights, num_ants)\n",
    "    st = time.perf_counter() - st\n",
    "    \n",
    "    nt = time.perf_counter()\n",
    "    tours = construct_tours_np( weights, num_ants )\n",
    "    nt = time.perf_counter() - nt\n",
    "   \n",
    "\n",
    "    mt = time.perf_counter()\n",
    "    tours = construct_tours_mp( weights, num_ants )\n",
    "    mt = time.perf_counter() - mt\n",
    "\n",
    "    \n",
    "    n = 2000 # number of cities in the problem\n",
    "    weights = np.random.random((n,n)) # square matrix of random weights for edges\n",
    "    num_ants = 8\n",
    "\n",
    "    st2 = time.perf_counter()\n",
    "    tours = construct_tours( weights, num_ants)\n",
    "    st2 = time.perf_counter() - st2\n",
    "    \n",
    "\n",
    "    nt2 = time.perf_counter()\n",
    "    tours = construct_tours_np( weights, num_ants )\n",
    "    nt2 = time.perf_counter() - nt2\n",
    "    \n",
    "\n",
    "    mt2 = time.perf_counter()\n",
    "    tours = construct_tours_mp( weights, num_ants )\n",
    "    mt2 = time.perf_counter() - mt2\n",
    "    \n",
    "    \n",
    "    n = 4000 # number of cities in the problem\n",
    "    weights = np.random.random((n,n)) # square matrix of random weights for edges\n",
    "    num_ants = 8\n",
    "\n",
    "    st4 = time.perf_counter()\n",
    "    tours = construct_tours( weights, num_ants)\n",
    "    st4 = time.perf_counter() - st4\n",
    "        \n",
    "    nt4 = time.perf_counter()\n",
    "    tours = construct_tours_np( weights, num_ants )\n",
    "    nt4 = time.perf_counter() - nt4\n",
    "       \n",
    "    mt4 = time.perf_counter()\n",
    "    tours = construct_tours_mp( weights, num_ants )\n",
    "    mt4 = time.perf_counter() - mt4\n",
    "    \n",
    "    \n",
    "    n = 8000 # number of cities in the problem\n",
    "    weights = np.random.random((n,n)) # square matrix of random weights for edges\n",
    "    num_ants = 8\n",
    "\n",
    "    st8 = time.perf_counter()\n",
    "    tours = construct_tours( weights, num_ants)\n",
    "    st8 = time.perf_counter() - st8\n",
    "    \n",
    "    nt8 = time.perf_counter()\n",
    "    tours = construct_tours_np( weights, num_ants )\n",
    "    nt8 = time.perf_counter() - nt8\n",
    "       \n",
    "    mt8 = time.perf_counter()\n",
    "    tours = construct_tours_mp( weights, num_ants )\n",
    "    mt8 = time.perf_counter() - mt8\n",
    "        \n",
    "    speedup1= st/mt\n",
    "    speedup2= st2/mt2\n",
    "    speedup4= st4/mt4\n",
    "    speedup8= st8/mt8\n",
    "    \n",
    "    speeds = [speedup1, speedup2, speedup4, speedup8]\n",
    "    cities = (1000, 2000, 4000, 8000)\n",
    "    plt.grid(b=True, color='grey', linestyle='-', alpha=0.2)\n",
    "    plt.plot(speeds, cities, marker='o')\n",
    "    plt.ylabel('Cities')\n",
    "    plt.xlabel('Speedup in seconds')\n",
    "    plt.title('Speedup increase as Cities increase')\n",
    "    plt.show()\n",
    "\n",
    "\n",
    "if __name__ == '__main__':\n",
    "    main()"
   ]
  },
  {
   "cell_type": "markdown",
   "metadata": {},
   "source": [
    "### As shown above, the speedup increases in a non-linear but gradual fashion, where the gradient reflects the increase over number of cities"
   ]
  },
  {
   "cell_type": "markdown",
   "metadata": {},
   "source": [
    "# System being used:"
   ]
  },
  {
   "cell_type": "code",
   "execution_count": 47,
   "metadata": {
    "collapsed": false
   },
   "outputs": [
    {
     "name": "stdout",
     "output_type": "stream",
     "text": [
      "\n",
      "Python version  : 3.5.3\n",
      "\n",
      "system     : Linux\n",
      "CPU count  : 8\n",
      "interpreter: 64bit\n",
      "\n",
      "\n",
      "\n"
     ]
    }
   ],
   "source": [
    "import platform\n",
    "\n",
    "def print_sysinfo():\n",
    "\n",
    "    print('\\nPython version  :', platform.python_version())\n",
    "\n",
    "    print('\\nsystem     :', platform.system())\n",
    "    print('CPU count  :', mp.cpu_count())\n",
    "    print('interpreter:', platform.architecture()[0])\n",
    "    print('\\n\\n')\n",
    "print_sysinfo()"
   ]
  }
 ],
 "metadata": {
  "kernelspec": {
   "display_name": "Python 3",
   "language": "python",
   "name": "python3"
  },
  "language_info": {
   "codemirror_mode": {
    "name": "ipython",
    "version": 3
   },
   "file_extension": ".py",
   "mimetype": "text/x-python",
   "name": "python",
   "nbconvert_exporter": "python",
   "pygments_lexer": "ipython3",
   "version": "3.5.3"
  }
 },
 "nbformat": 4,
 "nbformat_minor": 2
}
